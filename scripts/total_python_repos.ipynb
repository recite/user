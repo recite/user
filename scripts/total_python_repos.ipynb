{
 "cells": [
  {
   "cell_type": "code",
   "execution_count": 1,
   "id": "a35b470e-e44d-416a-8a8d-ce70c0fde2c5",
   "metadata": {},
   "outputs": [
    {
     "name": "stdout",
     "output_type": "stream",
     "text": [
      "Estimating the number of Python repositories on GitHub...\n",
      "Estimated total Python repositories on GitHub: 18,374,006\n",
      "There are approximately 18,374,006 repositories using Python as the primary language on GitHub.\n",
      "\n",
      "Note: This estimate is based on GitHub's search API and may not be exact due to:\n",
      "- API rate limits and sampling\n",
      "- Repositories that use Python but have another primary language\n",
      "- Private repositories not included in public search results\n"
     ]
    }
   ],
   "source": [
    "import requests\n",
    "import time\n",
    "import math\n",
    "\n",
    "def estimate_python_repos_count():\n",
    "    \"\"\"\n",
    "    Estimates the total number of public repositories on GitHub that use Python as the primary language\n",
    "    using the GitHub Search API and sampling techniques.\n",
    "    \n",
    "    Returns:\n",
    "        int: Estimated total number of Python repositories on GitHub\n",
    "    \"\"\"\n",
    "    api_url = \"https://api.github.com/search/repositories\"\n",
    "    \n",
    "    headers = {\n",
    "        \"Accept\": \"application/vnd.github.v3+json\",\n",
    "        # \"Authorization\": \"token YOUR_GITHUB_TOKEN\"\n",
    "    }\n",
    "    \n",
    "    params = {\n",
    "        \"q\": \"language:python\",\n",
    "        \"per_page\": 1\n",
    "    }\n",
    "    \n",
    "    try:\n",
    "        response = requests.get(api_url, headers=headers, params=params)\n",
    "        response.raise_for_status()\n",
    "        \n",
    "        data = response.json()\n",
    "        total_count = data.get(\"total_count\", 0)\n",
    "        \n",
    "        print(f\"Estimated total Python repositories on GitHub: {total_count:,}\")\n",
    "        \n",
    "        return total_count\n",
    "        \n",
    "    except requests.exceptions.RequestException as e:\n",
    "        print(f\"Error accessing GitHub API: {e}\")\n",
    "        \n",
    "        # If we hit rate limits, implement exponential backoff\n",
    "        if response.status_code == 403 and 'rate limit exceeded' in response.text.lower():\n",
    "            wait_time = int(response.headers.get('Retry-After', 60))\n",
    "            print(f\"Rate limit exceeded. Waiting {wait_time} seconds...\")\n",
    "            time.sleep(wait_time)\n",
    "            return estimate_python_repos_count()  # Retry after waiting\n",
    "            \n",
    "        return None\n",
    "    \n",
    "if __name__ == \"__main__\":\n",
    "    print(\"Estimating the number of Python repositories on GitHub...\")\n",
    "    count = estimate_python_repos_count()\n",
    "    \n",
    "    if count is not None:\n",
    "        print(f\"There are approximately {count:,} repositories using Python as the primary language on GitHub.\")\n",
    "        \n",
    "        # Optional: Add more context about the estimate\n",
    "        print(\"\\nNote: This estimate is based on GitHub's search API and may not be exact due to:\")\n",
    "        print(\"- API rate limits and sampling\")\n",
    "        print(\"- Repositories that use Python but have another primary language\")\n",
    "        print(\"- Private repositories not included in public search results\")"
   ]
  },
  {
   "cell_type": "code",
   "execution_count": null,
   "id": "a8029dce-a4a8-4ab0-980d-4ff9d56ae378",
   "metadata": {},
   "outputs": [],
   "source": []
  }
 ],
 "metadata": {
  "kernelspec": {
   "display_name": "Python 3.11 (Data Science)",
   "language": "python",
   "name": "py311ds"
  },
  "language_info": {
   "codemirror_mode": {
    "name": "ipython",
    "version": 3
   },
   "file_extension": ".py",
   "mimetype": "text/x-python",
   "name": "python",
   "nbconvert_exporter": "python",
   "pygments_lexer": "ipython3",
   "version": "3.11.11"
  }
 },
 "nbformat": 4,
 "nbformat_minor": 5
}
